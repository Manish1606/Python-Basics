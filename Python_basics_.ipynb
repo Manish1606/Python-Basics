{
  "nbformat": 4,
  "nbformat_minor": 0,
  "metadata": {
    "colab": {
      "provenance": []
    },
    "kernelspec": {
      "name": "python3",
      "display_name": "Python 3"
    },
    "language_info": {
      "name": "python"
    }
  },
  "cells": [
    {
      "cell_type": "markdown",
      "source": [
        "# PYTHON BASICS"
      ],
      "metadata": {
        "id": "yGT65r1TPBq6"
      }
    },
    {
      "cell_type": "markdown",
      "source": [
        " 1. What is Python, and Why it is Popular?\n",
        "    ==> Python is a general-purpose, high-level, object-oriented programming language that's used for many different purposes, including: Building websites and software, Automating tasks, Analyzing data, Machine learning, and Data science.Python is the most accessible open-source coding language as it has a simple syntax to code.\n",
        "\n",
        " 2. What is an interpreter in Python?\n",
        "    ==> A python interpreter is a computer program that converts each high-level program statement into machine code.\n",
        "\n",
        " 3. What are pre-defined keywords in Python?\n",
        "    ==> Pre-defined keywords in Python are reserved words that have a specific meaning and purpose in the language.\n",
        "\n",
        " 4. Can keywords be used as variable names?\n",
        "    ==> No, keywords cannot be used as variable names in most programming languages, including C, C++, and Python.\n",
        "\n",
        " 5. What is mutability in Python?\n",
        "    ==> Mutability in Python is the capability of an object to be changed or modified after its creation.\n",
        "\n",
        " 6. Why are lists mutable, but tuples are immutable?\n",
        "    ==> because you can change the order of items in a list or reassign an item in a list, but  they are designed to ensure that a collection of objects remains fixed, and cannot be changed once created.\n",
        "\n",
        " 7. What is the difference between “==” and “is” operators in Python?\n",
        "    ==>The main difference between the \"==\" and \"is\" operators in Python is that \"==\" compares the values of two objects, while \"is\" checks if the objects are identical.\n",
        "\n",
        " 8. What are logical operators in Python?\n",
        "    ==> Logical operators in Python combine two or more operands and conduct logical comparisons on them.\n",
        "\n",
        " 9. What is type casting in Python?\n",
        "    ==> Type casting in Python is the process of converting a variable's data type from one type to another.\n",
        "\n",
        " 10. What is the difference between implicit and explicit type casting?\n",
        "    ==> The main difference between implicit and explicit type casting is that  implicit type casting is automatically converts a value to a different data type based on the context, while explicit type casting is Requires the programmer to explicitly define the type conversion.\n",
        "\n",
        " 11. What is the purpose of conditional statements in Python?\n",
        "    ==> The purpose of conditional statements in Python is to control the flow of a program by making decisions based on certain conditions. It check the value of a condition and execute a block of code if the condition is true. If the condition is false, the code is not executed.\n",
        "\n",
        " 12. How does the elif statement work?\n",
        "    ==> If the first condition is false, it moves on to the next “elif” statement to check if that condition is true.\n",
        "\n",
        " 13. What is the difference between for and while loops?\n",
        "    ==> For loop is used to iterate over a sequence of items.and While loop is used to repeatedly execute a block of statements while a condition is true.\n",
        "\n",
        " 14. Describe a scenario where a while loop is more suitable than a for loop.\n",
        "    ==> In contrast to a 'for' loop, which is generally used when the number of iterations is known beforehand, a 'while' loop is ideal for situations where the number of iterations is not predetermined and depends on some dynamic condition.\n"
      ],
      "metadata": {
        "id": "Ml1SLzZRPlx3"
      }
    },
    {
      "cell_type": "code",
      "source": [
        "#1. Write a Python program to print \"Hello, World!\"\n",
        "\n",
        "print('Hello, World!')"
      ],
      "metadata": {
        "colab": {
          "base_uri": "https://localhost:8080/"
        },
        "id": "q8NhW1_fhXM4",
        "outputId": "268efb59-d3a7-42ae-99fd-d286e17279ae"
      },
      "execution_count": null,
      "outputs": [
        {
          "output_type": "stream",
          "name": "stdout",
          "text": [
            "Hello, World!\n"
          ]
        }
      ]
    },
    {
      "cell_type": "code",
      "source": [
        "#2. Write a Python program that displays your name and age.\n",
        "\n",
        "name= input(\"Enter Name\")\n",
        "age = input(\"Enter age\")\n",
        "print=(\"Hi, my name is \" + name + \", and i am \" + age +\" year old.\")\n"
      ],
      "metadata": {
        "colab": {
          "base_uri": "https://localhost:8080/"
        },
        "id": "M8tHhIbAkMId",
        "outputId": "5ecbdb6b-06dc-440f-b14f-286f8d90ad85"
      },
      "execution_count": null,
      "outputs": [
        {
          "name": "stdout",
          "output_type": "stream",
          "text": [
            "Enter Nameaa\n",
            "Enter age45\n"
          ]
        }
      ]
    },
    {
      "cell_type": "code",
      "source": [
        "#3. Write code to print all the pre-defined keywords in Python using the keyword library.\n",
        "\n",
        "help(\"keywords\")"
      ],
      "metadata": {
        "colab": {
          "base_uri": "https://localhost:8080/"
        },
        "id": "OgkfP2C4oL4a",
        "outputId": "64429a3d-8071-4da8-fe59-18cb8712a6f8"
      },
      "execution_count": null,
      "outputs": [
        {
          "output_type": "stream",
          "name": "stdout",
          "text": [
            "\n",
            "Here is a list of the Python keywords.  Enter any keyword to get more help.\n",
            "\n",
            "False               class               from                or\n",
            "None                continue            global              pass\n",
            "True                def                 if                  raise\n",
            "and                 del                 import              return\n",
            "as                  elif                in                  try\n",
            "assert              else                is                  while\n",
            "async               except              lambda              with\n",
            "await               finally             nonlocal            yield\n",
            "break               for                 not                 \n",
            "\n"
          ]
        }
      ]
    },
    {
      "cell_type": "code",
      "source": [
        "#4. Write a program that checks if a given word is a Python keyword.\n",
        "\n",
        "import keyword\n",
        "word=input(\"enter any word:\")\n",
        "if keyword.iskeyword(word):\n",
        "  print(f\"(word) is a python keyword.\")\n",
        "\n",
        "else:\n",
        "  print(f\"(word) is not a python keyword.\")"
      ],
      "metadata": {
        "colab": {
          "base_uri": "https://localhost:8080/"
        },
        "id": "_Ywu6se2s2l2",
        "outputId": "daf95b78-a554-4664-d270-9d59d091c8ef"
      },
      "execution_count": 1,
      "outputs": [
        {
          "output_type": "stream",
          "name": "stdout",
          "text": [
            "enter any word:hh\n",
            "(word) is not a python keyword.\n"
          ]
        }
      ]
    },
    {
      "cell_type": "code",
      "source": [
        "#5. Create a list and tuple in Python, and demonstrate how attempting to change an element works differently for each.\n",
        "\n",
        "num_list = [1,2,3,4,5]\n",
        "print(num_list)\n",
        "alphabets_list = ['a','b','c','d','e']\n",
        "print(alphabets_list)\n",
        "#A list can contain data of different data types. You can initiate it as follows -\n",
        "mixed_list = ['a',1,'b',2,'c',3,'d',4,'e',5]\n",
        "print(mixed_list)\n",
        "\n",
        "\n",
        "num_tuple = (1,2,3,4,5)\n",
        "print(num_tuple)\n",
        "alphabets_tuple = ['a','b','c','d','e']\n",
        "print(alphabets_tuple)\n",
        "#A list can contain data of different data types. You can initiate it as follows -\n",
        "mixed_tuple = ['a',1,'b',2,'c',3,'d',4,'e',5]\n",
        "print(mixed_tuple)\n"
      ],
      "metadata": {
        "id": "t64IwirqI-6R",
        "colab": {
          "base_uri": "https://localhost:8080/"
        },
        "outputId": "6e6d021f-f878-4db3-fa03-8c9031dea320"
      },
      "execution_count": 33,
      "outputs": [
        {
          "output_type": "stream",
          "name": "stdout",
          "text": [
            "[1, 2, 3, 4, 5]\n",
            "['a', 'b', 'c', 'd', 'e']\n",
            "['a', 1, 'b', 2, 'c', 3, 'd', 4, 'e', 5]\n",
            "(1, 2, 3, 4, 5)\n",
            "['a', 'b', 'c', 'd', 'e']\n",
            "['a', 1, 'b', 2, 'c', 3, 'd', 4, 'e', 5]\n"
          ]
        }
      ]
    },
    {
      "cell_type": "code",
      "source": [
        "#6. Write a function to demonstrate the behavior of mutable and immutable arguments.\n",
        "\n",
        "#mutable argument\n",
        "'''\n",
        "In python the term mutability refers to \"the ability to modify and change its value\n",
        "even after it is created.\"\n",
        "'''\n",
        "list_count = [10 , 20 , 33.5 , \"AVINESH\"]\n",
        "print(\"This is the original list\", list_count)\n",
        "#we can change multiple values in the list.\n",
        "list_count[0] = 99\n",
        "list_count[3] = \"MASIH\"\n",
        "print(\"This is the changed list\", list_count)\n",
        "print(\" \")\n",
        "#immutable argument\n",
        "'''\n",
        "In python the immutable are of built-in data type and it cannot be modified after it is created.\n",
        "'''\n",
        "print(\"-----------------------------------------------------------------\")\n",
        "print(\"tuple1 = (0, 11, 20, 55     ignore these parts\")\n",
        "print(\"tuple1[0] = 4               i'm using print command so that \")\n",
        "print(\"tuple1                      code can be executed without error\")\n",
        "print(\"-----------------------------------------------------------------\")\n",
        "\n",
        "#it will show error because tuples can't be modified\n",
        "#so that's why i have used print command to prevent error\n",
        "#because they are immutable.\n",
        "print(\" \")\n",
        "\n",
        "#if you want to change a tuple you need to create a new one\n",
        "#example:-\n",
        "\n",
        "tuple1 = (0, 11, 20, 55)\n",
        "print(\"The old tuple is\", tuple1)\n",
        "new_tuple1 = (4,) + tuple1[1:]\n",
        "print(\"The new tuple is\", new_tuple1)"
      ],
      "metadata": {
        "colab": {
          "base_uri": "https://localhost:8080/"
        },
        "id": "CGTy-E40dkzp",
        "outputId": "322a4cac-386e-4df9-b254-36b76a1a3453"
      },
      "execution_count": 2,
      "outputs": [
        {
          "output_type": "stream",
          "name": "stdout",
          "text": [
            "This is the original list [10, 20, 33.5, 'AVINESH']\n",
            "This is the changed list [99, 20, 33.5, 'MASIH']\n",
            " \n",
            "-----------------------------------------------------------------\n",
            "tuple1 = (0, 11, 20, 55     ignore these parts\n",
            "tuple1[0] = 4               i'm using print command so that \n",
            "tuple1                      code can be executed without error\n",
            "-----------------------------------------------------------------\n",
            " \n",
            "The old tuple is (0, 11, 20, 55)\n",
            "The new tuple is (4, 11, 20, 55)\n"
          ]
        }
      ]
    },
    {
      "cell_type": "code",
      "source": [
        "#7. Write a function to demonstrate the behavior of mutable and immutable arguments.\n",
        "\n",
        "def f(ParamList):\n",
        "    b = ParamList[1]\n",
        "    a = ParamList[0]\n",
        "    print('id(ParamList[0]), id(a)', id(ParamList[0]), id(a))\n",
        "    a, b = Problemmaker(a,b)\n",
        "    print('a, b, ParamList', a, b, ParamList)\n",
        "\n",
        "def Problemmaker(a,b):\n",
        "    a[2]=99\n",
        "    print('id(a)', id(a))\n",
        "    b = 55\n",
        "    return a,b\n",
        "\n",
        "if __name__ == \"__main__\":\n",
        "    Initial = [[2,3,4],2]\n"
      ],
      "metadata": {
        "id": "GzKhUaMWjmNN"
      },
      "execution_count": 3,
      "outputs": []
    },
    {
      "cell_type": "code",
      "source": [
        "#8. Write a program to demonstrate the use of logical operators.\n",
        "\n",
        "a = 10\n",
        "b = 10\n",
        "c = -10\n",
        "\n",
        "if a > 0 and b > 0:\n",
        "    print(\"The numbers are greater than 0\")\n",
        "if a > 0 and b > 0 and c > 0:\n",
        "    print(\"The numbers are greater than 0\")\n",
        "else:\n",
        "    print(\"Atleast one number is not greater than 0\")"
      ],
      "metadata": {
        "colab": {
          "base_uri": "https://localhost:8080/"
        },
        "id": "TQhmpwfokNuU",
        "outputId": "c29f30c4-a8fc-4826-ba23-ac90b8ef532c"
      },
      "execution_count": 4,
      "outputs": [
        {
          "output_type": "stream",
          "name": "stdout",
          "text": [
            "The numbers are greater than 0\n",
            "Atleast one number is not greater than 0\n"
          ]
        }
      ]
    },
    {
      "cell_type": "code",
      "source": [
        "#9. Write a Python program to convert user input from string to integer, float, and boolean types.\n",
        "\n",
        "# Convert a string to an integer\n",
        "numeric_string = \"42\"\n",
        "converted_integer = int(numeric_string)\n",
        "print(converted_integer)\n",
        "\n",
        "# convert string to float\n",
        "\n",
        "numeric_string = \"3.14\"\n",
        "converted_float = float(numeric_string)\n",
        "print(converted_float)\n",
        "\n",
        "numeric_string = \"True\"\n",
        "converted_boolean = bool(numeric_string)\n",
        "print(converted_boolean)"
      ],
      "metadata": {
        "id": "7DIIrlZmm7Bn",
        "colab": {
          "base_uri": "https://localhost:8080/"
        },
        "outputId": "daaeca60-6caf-4de1-f33e-b0969cdb5501"
      },
      "execution_count": 7,
      "outputs": [
        {
          "output_type": "stream",
          "name": "stdout",
          "text": [
            "42\n",
            "3.14\n",
            "True\n"
          ]
        }
      ]
    },
    {
      "cell_type": "code",
      "source": [
        "#10. Write code to demonstrate type casting with list elements.\n",
        "\n",
        "import numpy as np\n",
        "\n",
        "# initialize list\n",
        "test_list = [1, 4, 9, 10, 19]\n",
        "\n",
        "# initialize Matrix\n",
        "test_matrix = [[5, 6, 8], [8, 5, 3], [9, 10, 3]]\n",
        "\n",
        "# printing original list\n",
        "print(\"The original list is : \" + str(test_list))\n",
        "\n",
        "# printing original matrix\n",
        "print(\"The original Matrix is : \" + str(test_matrix))\n",
        "\n",
        "# Type casting whole List and Matrix\n",
        "# using numpy library\n",
        "res_list = np.array(test_list, dtype=str)\n",
        "res_matrix = np.array(test_matrix, dtype=str)\n",
        "\n",
        "# printing result\n",
        "print(\"The List after type casting is : \" + str(res_list))\n",
        "print(\"The Matrix after type casting is : \" + str(res_matrix))\n",
        "\n"
      ],
      "metadata": {
        "colab": {
          "base_uri": "https://localhost:8080/"
        },
        "id": "skr1Gs05uHdI",
        "outputId": "46442231-b1d7-404a-e2a6-0901debd5cd9"
      },
      "execution_count": 8,
      "outputs": [
        {
          "output_type": "stream",
          "name": "stdout",
          "text": [
            "The original list is : [1, 4, 9, 10, 19]\n",
            "The original Matrix is : [[5, 6, 8], [8, 5, 3], [9, 10, 3]]\n",
            "The List after type casting is : ['1' '4' '9' '10' '19']\n",
            "The Matrix after type casting is : [['5' '6' '8']\n",
            " ['8' '5' '3']\n",
            " ['9' '10' '3']]\n"
          ]
        }
      ]
    },
    {
      "cell_type": "code",
      "source": [
        "#11. Write a program that checks if a number is positive, negative, or zero.\n",
        "\n",
        "num = float(input(\"Enter a number:\"))\n",
        "if num > 0:\n",
        "   print(\"Positive number\")\n",
        "elif num == 0:\n",
        "   print(\"Zero\")\n",
        "else:\n",
        "   print(\"Negative number\")\n"
      ],
      "metadata": {
        "colab": {
          "base_uri": "https://localhost:8080/"
        },
        "id": "swdov65-ujjP",
        "outputId": "2cc15bb3-6247-4e5f-9739-a36640dce961"
      },
      "execution_count": 13,
      "outputs": [
        {
          "output_type": "stream",
          "name": "stdout",
          "text": [
            "Enter a number:-5\n",
            "Negative number\n"
          ]
        }
      ]
    },
    {
      "cell_type": "code",
      "source": [
        "#12. Write a for loop to print numbers from 1 to 10.\n",
        "\n",
        "print(\"Print integers 1 to 10 using for loop:\")\n",
        "for i in range(1, 11):\n",
        "\n",
        "# iterates for 10 times\n",
        "    print(i)"
      ],
      "metadata": {
        "colab": {
          "base_uri": "https://localhost:8080/"
        },
        "id": "Wi8su-dLu_kK",
        "outputId": "4f8823dc-8e12-4466-9de0-8be9617c3cf9"
      },
      "execution_count": 14,
      "outputs": [
        {
          "output_type": "stream",
          "name": "stdout",
          "text": [
            "Print integers 1 to 10 using for loop:\n",
            "1\n",
            "2\n",
            "3\n",
            "4\n",
            "5\n",
            "6\n",
            "7\n",
            "8\n",
            "9\n",
            "10\n"
          ]
        }
      ]
    },
    {
      "cell_type": "code",
      "source": [
        "#13. Write a Python program to find the sum of all even numbers between 1 and 50.\n",
        "\n",
        "for i in range(0, 50):\n",
        "\n",
        "    if i % 2 == 0:\n",
        "        print(i)\n",
        "        sum+=i\n",
        "    i+=1\n",
        "print(f\"Sum of all the even numbers is {sum}\")\n"
      ],
      "metadata": {
        "colab": {
          "base_uri": "https://localhost:8080/"
        },
        "id": "V6zcjWdRvjWD",
        "outputId": "c620ec81-d5ca-4bc1-b88d-5c49cbeac918"
      },
      "execution_count": 20,
      "outputs": [
        {
          "output_type": "stream",
          "name": "stdout",
          "text": [
            "0\n",
            "2\n",
            "4\n",
            "6\n",
            "8\n",
            "10\n",
            "12\n",
            "14\n",
            "16\n",
            "18\n",
            "20\n",
            "22\n",
            "24\n",
            "26\n",
            "28\n",
            "30\n",
            "32\n",
            "34\n",
            "36\n",
            "38\n",
            "40\n",
            "42\n",
            "44\n",
            "46\n",
            "48\n",
            "Sum of all the even numbers is 1356\n"
          ]
        }
      ]
    },
    {
      "cell_type": "code",
      "source": [
        "#14. Write a program to reverse a string using a while loop.\n",
        "\n",
        "def reverse_while_loop(s):\n",
        "    s1 = ''\n",
        "    length = len(s) - 1\n",
        "    while length >= 0:\n",
        "        s1 = s1 + s[length]\n",
        "        length = length - 1\n",
        "    return s1\n",
        "\n",
        "input_str = 'ROLEX'\n",
        "\n",
        "if __name__ == \"__main__\":\n",
        "    print('Reverse String using while loop =', reverse_while_loop(input_str))"
      ],
      "metadata": {
        "colab": {
          "base_uri": "https://localhost:8080/"
        },
        "id": "c5C01boUyXGy",
        "outputId": "d39d7c86-c6ac-415a-a7a5-6ac9830b472a"
      },
      "execution_count": 22,
      "outputs": [
        {
          "output_type": "stream",
          "name": "stdout",
          "text": [
            "Reverse String using while loop = XELOR\n"
          ]
        }
      ]
    },
    {
      "cell_type": "code",
      "source": [
        "#15. Write a Python program to calculate the factorial of a number provided by the user using a while loop.\n",
        "\n",
        "# accept input number from user\n",
        "n = int(input(\"Enter any number: \"))\n",
        "\n",
        "# logic to calculate the factorial of a number\n",
        "f = 1\n",
        "while n >= 1:\n",
        "    f *= n\n",
        "    n -= 1\n",
        "\n",
        "# print output\n",
        "print(\"Factorial is\", f)"
      ],
      "metadata": {
        "colab": {
          "base_uri": "https://localhost:8080/"
        },
        "id": "JeTMXRA9zn44",
        "outputId": "4b68a818-b2e6-45c6-b855-156bed9687b8"
      },
      "execution_count": 24,
      "outputs": [
        {
          "output_type": "stream",
          "name": "stdout",
          "text": [
            "Enter any number: 12\n",
            "Factorial is 479001600\n"
          ]
        }
      ]
    }
  ]
}